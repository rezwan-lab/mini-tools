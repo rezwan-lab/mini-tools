{
  "cells": [
    {
      "cell_type": "code",
      "execution_count": null,
      "metadata": {
        "colab": {
          "base_uri": "https://localhost:8080/"
        },
        "id": "HnNeAV1Uke7j",
        "outputId": "43839623-2476-4f04-e778-38b4651131cf"
      },
      "outputs": [
        {
          "output_type": "stream",
          "name": "stdout",
          "text": [
            "Requirement already satisfied: pivottablejs in /usr/local/lib/python3.7/dist-packages (0.9.0)\n"
          ]
        }
      ],
      "source": [
        "import pandas as pd\n",
        "import numpy as np\n",
        "!pip install pivottablejs\n",
        "from pivottablejs import pivot_ui\n",
        "from IPython.display import HTML\n",
        "from IPython.display import IFrame\n",
        "import json, io"
      ]
    },
    {
      "cell_type": "code",
      "execution_count": null,
      "metadata": {
        "colab": {
          "base_uri": "https://localhost:8080/"
        },
        "id": "EuajdKsektB1",
        "outputId": "7edcf35e-c5f2-406d-849a-3eda139a6f58"
      },
      "outputs": [
        {
          "output_type": "stream",
          "name": "stdout",
          "text": [
            "Drive already mounted at /content/drive; to attempt to forcibly remount, call drive.mount(\"/content/drive\", force_remount=True).\n"
          ]
        }
      ],
      "source": [
        "from google.colab import drive\n",
        "drive.mount('/content/drive')"
      ]
    },
    {
      "cell_type": "code",
      "execution_count": null,
      "metadata": {
        "colab": {
          "base_uri": "https://localhost:8080/"
        },
        "id": "45URmgWhkvXy",
        "outputId": "1929f908-54f8-4016-e190-189c8b86022e"
      },
      "outputs": [
        {
          "output_type": "stream",
          "name": "stderr",
          "text": [
            "/usr/local/lib/python3.7/dist-packages/IPython/core/interactiveshell.py:2882: DtypeWarning: Columns (26) have mixed types.Specify dtype option on import or set low_memory=False.\n",
            "  exec(code_obj, self.user_global_ns, self.user_ns)\n"
          ]
        }
      ],
      "source": [
        "df1 = pd.read_table(\"/content/drive/MyDrive/Colab Notebooks/WA_101_IBDC/nextstrain_metadata.tsv\", sep='\\t')"
      ]
    },
    {
      "cell_type": "code",
      "execution_count": null,
      "metadata": {
        "id": "egKq3zH7tzmU"
      },
      "outputs": [],
      "source": [
        "#Omicron(BA.1, BA.1.1, BA.2)\n",
        "\n",
        "#upload_defining_mutations\n",
        "df2 = pd.read_table(\"/content/drive/MyDrive/Colab Notebooks/WA_101_IBDC/insacog_metadata_strain.tsv\", sep='\\t')\n",
        "\n",
        "df3 = df1[df1['strain'].isin(df2[\"strain\"])]\n",
        "\n",
        "df3.to_csv('insacog_metadata_v3.csv', index=False)"
      ]
    },
    {
      "cell_type": "code",
      "source": [
        "df3.to_csv('insacog_metadata_v3.1.tsv', sep=\"\\t\", index=False)"
      ],
      "metadata": {
        "id": "d9i8tCVt3qhe"
      },
      "execution_count": null,
      "outputs": []
    },
    {
      "cell_type": "code",
      "execution_count": null,
      "metadata": {
        "id": "Hw42Ox4_l9ZZ"
      },
      "outputs": [],
      "source": [
        "# array = ['ORF1a:S135R', 'ORF1a:T842I', 'ORF1a:K856R', 'ORF1a:G1307S', 'ORF1a:S2083I', 'ORF1a:A2710T', 'ORF1a:L3027F', 'ORF1a:T3090I', 'ORF1a:L3201F', 'ORF1a:T3255I', 'ORF1a:P3395H', 'ORF1a:I3758V',\n",
        "# 'ORF1b:P314L', 'ORF1b:R1315C', 'ORF1b:I1566V', 'ORF1b:T2163I', 'S:T19I', 'S:L24S', 'S:del25/27', 'S:A67V', 'S:del69/70', 'S:T95I', 'S:G142D', 'S:N211I', 'S:V213G', 'S:G339D', 'S:R346K', 'S:S371F', 'S:S373P', 'S:S375F', 'S:T376A', 'S:D405N', 'S:R408S', 'S:K417N', 'S:N440K', 'S:S477N', 'S:T478K', 'S:E484A', 'S:Q493R', 'S:G496S', 'S:Q498R',\n",
        "# 'S:N501Y', 'S:Y505H', 'S:T547K', 'S:D614G', 'S:H655Y', 'S:N679K', 'S:P681H', 'S:N764K', 'S:D796Y', 'S:N856K', 'S:Q954H', 'S:N969K', 'S:L981F', 'ORF3a:T223I', 'E:T9I', 'M:D3G', 'M:Q19E', 'M:A63T', 'ORF6:D61L', 'ORF8:S84L', 'N:P13L', 'N:R203K', 'N:G204R', 'N:S413R']\n",
        "# mutation2 = mutation1.loc[~mutation1['aaSubstitutions'].isin(array)]"
      ]
    },
    {
      "cell_type": "code",
      "execution_count": null,
      "metadata": {
        "id": "7cBVOhvtmAro"
      },
      "outputs": [],
      "source": [
        "#mutation2 = mutation1.loc[mutation1['aaSubstitutions'].isin(array)]\n",
        "#mutation2 = mutation1.loc[~mutation1['aaSubstitutions'].isin(array)]"
      ]
    },
    {
      "cell_type": "code",
      "execution_count": null,
      "metadata": {
        "id": "hWSGa7BemcYA"
      },
      "outputs": [],
      "source": [
        "# df1[df1['lineage'].isin(df2[\"lineage\"])]\n",
        "\n",
        "# #df1[~df1['lineage'].isin(df2[\"lineage\"])]"
      ]
    }
  ],
  "metadata": {
    "colab": {
      "provenance": []
    },
    "kernelspec": {
      "display_name": "Python 3",
      "name": "python3"
    },
    "language_info": {
      "name": "python"
    }
  },
  "nbformat": 4,
  "nbformat_minor": 0
}