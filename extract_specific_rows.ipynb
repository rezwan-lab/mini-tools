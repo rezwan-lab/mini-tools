{
  "nbformat": 4,
  "nbformat_minor": 0,
  "metadata": {
    "colab": {
      "provenance": []
    },
    "kernelspec": {
      "name": "python3",
      "display_name": "Python 3"
    },
    "language_info": {
      "name": "python"
    }
  },
  "cells": [
    {
      "cell_type": "code",
      "execution_count": null,
      "metadata": {
        "colab": {
          "base_uri": "https://localhost:8080/"
        },
        "id": "HnNeAV1Uke7j",
        "outputId": "38f3dd69-1c9a-4241-d5b4-40f35276e440"
      },
      "outputs": [
        {
          "output_type": "stream",
          "name": "stdout",
          "text": [
            "Looking in indexes: https://pypi.org/simple, https://us-python.pkg.dev/colab-wheels/public/simple/\n",
            "Collecting pivottablejs\n",
            "  Downloading pivottablejs-0.9.0-py2.py3-none-any.whl (4.7 kB)\n",
            "Installing collected packages: pivottablejs\n",
            "Successfully installed pivottablejs-0.9.0\n"
          ]
        }
      ],
      "source": [
        "import pandas as pd\n",
        "import numpy as np\n",
        "!pip install pivottablejs\n",
        "from pivottablejs import pivot_ui\n",
        "from IPython.display import HTML\n",
        "from IPython.display import IFrame\n",
        "import json, io"
      ]
    },
    {
      "cell_type": "code",
      "source": [
        "from google.colab import drive\n",
        "drive.mount('/content/drive')"
      ],
      "metadata": {
        "colab": {
          "base_uri": "https://localhost:8080/"
        },
        "id": "EuajdKsektB1",
        "outputId": "b8ce637f-e6ba-42e0-e03e-875150fadc2f"
      },
      "execution_count": null,
      "outputs": [
        {
          "output_type": "stream",
          "name": "stdout",
          "text": [
            "Mounted at /content/drive\n"
          ]
        }
      ]
    },
    {
      "cell_type": "code",
      "source": [
        "df1 = pd.read_table(\"/content/drive/MyDrive/Colab Notebooks/WA108_IBDC_29.06.2022/nextstrain_metadata1.tsv\", sep='\\t')"
      ],
      "metadata": {
        "id": "vChjAGawzjC2",
        "colab": {
          "base_uri": "https://localhost:8080/"
        },
        "outputId": "636ddb3d-87b8-42e8-8f44-4a3f9e5bf4a7"
      },
      "execution_count": null,
      "outputs": [
        {
          "output_type": "stream",
          "name": "stderr",
          "text": [
            "/usr/local/lib/python3.7/dist-packages/IPython/core/interactiveshell.py:2882: DtypeWarning: Columns (26) have mixed types.Specify dtype option on import or set low_memory=False.\n",
            "  exec(code_obj, self.user_global_ns, self.user_ns)\n"
          ]
        }
      ]
    },
    {
      "cell_type": "code",
      "source": [
        "count_row = df1.shape[0]  # Gives number of rows\n",
        "#count_col = df1.shape[1]  # Gives number of columns\n",
        "count_row"
      ],
      "metadata": {
        "colab": {
          "base_uri": "https://localhost:8080/"
        },
        "id": "095qn5nd0EEc",
        "outputId": "512decd4-768b-4f22-c3cb-88f9b32ee9bf"
      },
      "execution_count": null,
      "outputs": [
        {
          "output_type": "execute_result",
          "data": {
            "text/plain": [
              "161984"
            ]
          },
          "metadata": {},
          "execution_count": 4
        }
      ]
    },
    {
      "cell_type": "code",
      "source": [
        "df1.columns"
      ],
      "metadata": {
        "colab": {
          "base_uri": "https://localhost:8080/"
        },
        "id": "KI2gblNSxcTu",
        "outputId": "320dfc50-1a51-44a8-b3dd-e68a7f8b640c"
      },
      "execution_count": null,
      "outputs": [
        {
          "output_type": "execute_result",
          "data": {
            "text/plain": [
              "Index(['strain', 'virus', 'gisaid_epi_isl', 'genbank_accession', 'date',\n",
              "       'region', 'country', 'division', 'location', 'region_exposure',\n",
              "       'country_exposure', 'division_exposure', 'segment', 'length', 'host',\n",
              "       'age', 'sex', 'originating_lab', 'submitting_lab', 'authors', 'url',\n",
              "       'title', 'paper_url', 'date_submitted', 'purpose_of_sequencing',\n",
              "       'lab_id', 'last_vaccinated', 'region_type', 'collection_month',\n",
              "       'collection_week', 'WHO_label', 'clade', 'Nextclade_pango',\n",
              "       'totalInsertions', 'insertions', 'totalFrameShifts', 'frameShifts',\n",
              "       'totalMissing', 'missing', 'totalNonACGTNs', 'nonACGTNs',\n",
              "       'substitutions', 'aaSubstitutions', 'deletions', 'aaDeletions',\n",
              "       'privateNucMutations.reversionSubstitutions',\n",
              "       'privateNucMutations.labeledSubstitutions',\n",
              "       'privateNucMutations.unlabeledSubstitutions', 'lineage', 'scorpio_call',\n",
              "       'scorpio_support', 'scorpio_conflict', 'note'],\n",
              "      dtype='object')"
            ]
          },
          "metadata": {},
          "execution_count": 7
        }
      ]
    },
    {
      "cell_type": "code",
      "source": [
        "nibmg = df1.loc[df1['submitting_lab'] == 'NIBMG']"
      ],
      "metadata": {
        "id": "xxfSyCzVw7r_"
      },
      "execution_count": null,
      "outputs": []
    },
    {
      "cell_type": "code",
      "source": [
        "count_row1 = nibmg.shape[0]  # Gives number of rows\n",
        "#count_col = df1.shape[1]  # Gives number of columns\n",
        "count_row1"
      ],
      "metadata": {
        "colab": {
          "base_uri": "https://localhost:8080/"
        },
        "id": "-Gel0xP5xJv3",
        "outputId": "a67a153b-b187-4a26-8fcb-eb54115a4138"
      },
      "execution_count": null,
      "outputs": [
        {
          "output_type": "execute_result",
          "data": {
            "text/plain": [
              "26230"
            ]
          },
          "metadata": {},
          "execution_count": 11
        }
      ]
    },
    {
      "cell_type": "code",
      "source": [
        "non_nibmg = df1.loc[df1['submitting_lab'] != 'NIBMG']"
      ],
      "metadata": {
        "id": "b-3vkkM9zJMq"
      },
      "execution_count": null,
      "outputs": []
    },
    {
      "cell_type": "code",
      "source": [
        "count_row2 = non_nibmg.shape[0]  # Gives number of rows\n",
        "#count_col = df1.shape[1]  # Gives number of columns\n",
        "count_row2"
      ],
      "metadata": {
        "colab": {
          "base_uri": "https://localhost:8080/"
        },
        "id": "AEbQ5ZMYzdZh",
        "outputId": "ad1d7ca3-23a7-4b38-a959-dca2f5800368"
      },
      "execution_count": null,
      "outputs": [
        {
          "output_type": "execute_result",
          "data": {
            "text/plain": [
              "135754"
            ]
          },
          "metadata": {},
          "execution_count": 16
        }
      ]
    },
    {
      "cell_type": "code",
      "source": [
        "df2 = pd.read_table(\"/content/drive/MyDrive/Colab Notebooks/WA108_IBDC_29.06.2022/nextstrain_metadata2.tsv\", sep='\\t')"
      ],
      "metadata": {
        "id": "_JeRybrqzwZU",
        "colab": {
          "base_uri": "https://localhost:8080/"
        },
        "outputId": "2d58691d-6750-4dac-c558-155fe2725d4c"
      },
      "execution_count": null,
      "outputs": [
        {
          "output_type": "stream",
          "name": "stderr",
          "text": [
            "/usr/local/lib/python3.7/dist-packages/IPython/core/interactiveshell.py:2882: DtypeWarning: Columns (15,26,34,36,40,43,44) have mixed types.Specify dtype option on import or set low_memory=False.\n",
            "  exec(code_obj, self.user_global_ns, self.user_ns)\n"
          ]
        }
      ]
    },
    {
      "cell_type": "code",
      "source": [
        "count_row3 = df2.shape[0]  # Gives number of rows\n",
        "#count_col = df1.shape[1]  # Gives number of columns\n",
        "count_row3"
      ],
      "metadata": {
        "colab": {
          "base_uri": "https://localhost:8080/"
        },
        "id": "ebVVhdmp0Ma8",
        "outputId": "565e62f1-079e-4438-a1b3-e56926dfe285"
      },
      "execution_count": null,
      "outputs": [
        {
          "output_type": "execute_result",
          "data": {
            "text/plain": [
              "163940"
            ]
          },
          "metadata": {},
          "execution_count": 18
        }
      ]
    },
    {
      "cell_type": "code",
      "source": [
        "# df1 = pd.read_table(\"/content/drive/MyDrive/Colab Notebooks/WA_101_IBDC/subsample/insacog_metadata_v3.1.tsv\", sep='\\t')"
      ],
      "metadata": {
        "id": "sVoMkoBAk0Ql"
      },
      "execution_count": null,
      "outputs": []
    },
    {
      "cell_type": "code",
      "source": [
        "nibmg = df2.loc[df2['submitting_lab'] == 'NIBMG']"
      ],
      "metadata": {
        "id": "Sd6qqPT34mls"
      },
      "execution_count": null,
      "outputs": []
    },
    {
      "cell_type": "code",
      "source": [
        "count_row4 = nibmg.shape[0]  # Gives number of rows\n",
        "#count_col = df1.shape[1]  # Gives number of columns\n",
        "count_row4"
      ],
      "metadata": {
        "colab": {
          "base_uri": "https://localhost:8080/"
        },
        "id": "8389B5ER4t4q",
        "outputId": "029e955c-70bd-450b-d659-2a67a9a185b2"
      },
      "execution_count": null,
      "outputs": [
        {
          "output_type": "execute_result",
          "data": {
            "text/plain": [
              "27290"
            ]
          },
          "metadata": {},
          "execution_count": 20
        }
      ]
    },
    {
      "cell_type": "code",
      "source": [
        "nibmg.columns"
      ],
      "metadata": {
        "colab": {
          "base_uri": "https://localhost:8080/"
        },
        "id": "dhOM8tqC_1o_",
        "outputId": "bdaa736a-a428-4426-9a25-ff75d5642127"
      },
      "execution_count": null,
      "outputs": [
        {
          "output_type": "execute_result",
          "data": {
            "text/plain": [
              "Index(['strain', 'virus', 'gisaid_epi_isl', 'genbank_accession', 'date',\n",
              "       'region', 'country', 'division', 'location', 'region_exposure',\n",
              "       'country_exposure', 'division_exposure', 'segment', 'length', 'host',\n",
              "       'age', 'sex', 'originating_lab', 'submitting_lab', 'authors', 'url',\n",
              "       'title', 'paper_url', 'date_submitted', 'purpose_of_sequencing',\n",
              "       'lab_id', 'last_vaccinated', 'region_type', 'collection_month',\n",
              "       'collection_week', 'WHO_label', 'clade', 'Nextclade_pango',\n",
              "       'totalInsertions', 'insertions', 'totalFrameShifts', 'frameShifts',\n",
              "       'totalMissing', 'missing', 'totalNonACGTNs', 'nonACGTNs',\n",
              "       'substitutions', 'aaSubstitutions', 'deletions', 'aaDeletions',\n",
              "       'privateNucMutations.reversionSubstitutions',\n",
              "       'privateNucMutations.labeledSubstitutions',\n",
              "       'privateNucMutations.unlabeledSubstitutions', 'lineage', 'scorpio_call',\n",
              "       'scorpio_support', 'scorpio_conflict', 'note', 'version'],\n",
              "      dtype='object')"
            ]
          },
          "metadata": {},
          "execution_count": 24
        }
      ]
    },
    {
      "cell_type": "code",
      "source": [
        "df3 = pd.concat([non_nibmg, nibmg], ignore_index=True, sort=False)"
      ],
      "metadata": {
        "id": "QY7qjo_q5r9Q"
      },
      "execution_count": null,
      "outputs": []
    },
    {
      "cell_type": "code",
      "source": [
        "df3 = pd.concat([non_nibmg, nibmg], join=\"inner\")"
      ],
      "metadata": {
        "id": "OiQS_zDnvj9z"
      },
      "execution_count": null,
      "outputs": []
    },
    {
      "cell_type": "code",
      "source": [
        "count_row3 = df3.shape[0]  # Gives number of rows\n",
        "#count_col = df1.shape[1]  # Gives number of columns\n",
        "count_row3"
      ],
      "metadata": {
        "colab": {
          "base_uri": "https://localhost:8080/"
        },
        "id": "UWtgx0eT0fJj",
        "outputId": "aaa864a3-4da4-4914-d764-3e097c2ef98e"
      },
      "execution_count": null,
      "outputs": [
        {
          "output_type": "execute_result",
          "data": {
            "text/plain": [
              "163044"
            ]
          },
          "metadata": {},
          "execution_count": 22
        }
      ]
    },
    {
      "cell_type": "code",
      "source": [
        "df3.columns"
      ],
      "metadata": {
        "colab": {
          "base_uri": "https://localhost:8080/"
        },
        "id": "3Oqj3ubM_xno",
        "outputId": "e3326301-0ca5-414f-d530-debe4d3c204c"
      },
      "execution_count": null,
      "outputs": [
        {
          "output_type": "execute_result",
          "data": {
            "text/plain": [
              "Index(['strain', 'virus', 'gisaid_epi_isl', 'genbank_accession', 'date',\n",
              "       'region', 'country', 'division', 'location', 'region_exposure',\n",
              "       'country_exposure', 'division_exposure', 'segment', 'length', 'host',\n",
              "       'age', 'sex', 'originating_lab', 'submitting_lab', 'authors', 'url',\n",
              "       'title', 'paper_url', 'date_submitted', 'purpose_of_sequencing',\n",
              "       'lab_id', 'last_vaccinated', 'region_type', 'collection_month',\n",
              "       'collection_week', 'WHO_label', 'clade', 'Nextclade_pango',\n",
              "       'totalInsertions', 'insertions', 'totalFrameShifts', 'frameShifts',\n",
              "       'totalMissing', 'missing', 'totalNonACGTNs', 'nonACGTNs',\n",
              "       'substitutions', 'aaSubstitutions', 'deletions', 'aaDeletions',\n",
              "       'privateNucMutations.reversionSubstitutions',\n",
              "       'privateNucMutations.labeledSubstitutions',\n",
              "       'privateNucMutations.unlabeledSubstitutions', 'lineage', 'scorpio_call',\n",
              "       'scorpio_support', 'scorpio_conflict', 'note', 'version'],\n",
              "      dtype='object')"
            ]
          },
          "metadata": {},
          "execution_count": 25
        }
      ]
    },
    {
      "cell_type": "code",
      "source": [
        "df3.to_csv('NIBMG_IBDC_combined_metadata_v2.tsv', sep=\"\\t\", index=False)"
      ],
      "metadata": {
        "id": "Qt3suEkq0bXD"
      },
      "execution_count": null,
      "outputs": []
    }
  ]
}