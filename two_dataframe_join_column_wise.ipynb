{
  "nbformat": 4,
  "nbformat_minor": 0,
  "metadata": {
    "colab": {
      "provenance": []
    },
    "kernelspec": {
      "name": "python3",
      "display_name": "Python 3"
    },
    "language_info": {
      "name": "python"
    }
  },
  "cells": [
    {
      "cell_type": "code",
      "execution_count": null,
      "metadata": {
        "colab": {
          "base_uri": "https://localhost:8080/"
        },
        "id": "HnNeAV1Uke7j",
        "outputId": "0a55528c-b304-4cba-e70c-40dd23be86b2"
      },
      "outputs": [
        {
          "output_type": "stream",
          "name": "stdout",
          "text": [
            "Collecting pivottablejs\n",
            "  Downloading pivottablejs-0.9.0-py2.py3-none-any.whl (4.7 kB)\n",
            "Installing collected packages: pivottablejs\n",
            "Successfully installed pivottablejs-0.9.0\n"
          ]
        }
      ],
      "source": [
        "import pandas as pd\n",
        "import numpy as np\n",
        "!pip install pivottablejs\n",
        "from pivottablejs import pivot_ui\n",
        "from IPython.display import HTML\n",
        "from IPython.display import IFrame\n",
        "import json, io"
      ]
    },
    {
      "cell_type": "code",
      "source": [
        "from google.colab import drive\n",
        "drive.mount('/content/drive')"
      ],
      "metadata": {
        "colab": {
          "base_uri": "https://localhost:8080/"
        },
        "id": "EuajdKsektB1",
        "outputId": "186e064e-0e68-4d39-f10e-c0856d181f4e"
      },
      "execution_count": null,
      "outputs": [
        {
          "output_type": "stream",
          "name": "stdout",
          "text": [
            "Mounted at /content/drive\n"
          ]
        }
      ]
    },
    {
      "cell_type": "code",
      "source": [
        "df1 = pd.read_table(\"/content/drive/MyDrive/Colab Notebooks/WA102_WHO/nextstrain_metadata.tsv\", sep='\\t')"
      ],
      "metadata": {
        "id": "sVoMkoBAk0Ql",
        "colab": {
          "base_uri": "https://localhost:8080/"
        },
        "outputId": "4e154ba7-a26c-4dba-a91c-8b6d311d2296"
      },
      "execution_count": null,
      "outputs": [
        {
          "output_type": "stream",
          "name": "stderr",
          "text": [
            "/usr/local/lib/python3.7/dist-packages/IPython/core/interactiveshell.py:2882: DtypeWarning: Columns (26,40) have mixed types.Specify dtype option on import or set low_memory=False.\n",
            "  exec(code_obj, self.user_global_ns, self.user_ns)\n"
          ]
        }
      ]
    },
    {
      "cell_type": "code",
      "source": [
        "df1.head(1)"
      ],
      "metadata": {
        "colab": {
          "base_uri": "https://localhost:8080/",
          "height": 191
        },
        "id": "v7C6KBDsp3b5",
        "outputId": "b49562ba-2168-439d-ce90-baa846249a56"
      },
      "execution_count": null,
      "outputs": [
        {
          "output_type": "execute_result",
          "data": {
            "text/plain": [
              "    strain            virus gisaid_epi_isl genbank_accession        date  \\\n",
              "0  Covid_1  betacoronavirus      EPI_ISL_0                 ?  2020-12-28   \n",
              "\n",
              "  region country        division location region_exposure  ... deletions  \\\n",
              "0   Asia   India  Andhra Pradesh  NELLORE            Asia  ...       NaN   \n",
              "\n",
              "  aaDeletions privateNucMutations.reversionSubstitutions  \\\n",
              "0         NaN                                        NaN   \n",
              "\n",
              "   privateNucMutations.labeledSubstitutions  \\\n",
              "0                                       NaN   \n",
              "\n",
              "  privateNucMutations.unlabeledSubstitutions    lineage scorpio_call  \\\n",
              "0      T1947C,C8481T,C15763T,T22191C,C26622T  B.1.36.39          NaN   \n",
              "\n",
              "  scorpio_support scorpio_conflict                               note  \n",
              "0             NaN              NaN  Alt assignments: B.1.36;B.1.36.39  \n",
              "\n",
              "[1 rows x 53 columns]"
            ],
            "text/html": [
              "\n",
              "  <div id=\"df-02708b91-eb0a-4755-8065-fda932119b67\">\n",
              "    <div class=\"colab-df-container\">\n",
              "      <div>\n",
              "<style scoped>\n",
              "    .dataframe tbody tr th:only-of-type {\n",
              "        vertical-align: middle;\n",
              "    }\n",
              "\n",
              "    .dataframe tbody tr th {\n",
              "        vertical-align: top;\n",
              "    }\n",
              "\n",
              "    .dataframe thead th {\n",
              "        text-align: right;\n",
              "    }\n",
              "</style>\n",
              "<table border=\"1\" class=\"dataframe\">\n",
              "  <thead>\n",
              "    <tr style=\"text-align: right;\">\n",
              "      <th></th>\n",
              "      <th>strain</th>\n",
              "      <th>virus</th>\n",
              "      <th>gisaid_epi_isl</th>\n",
              "      <th>genbank_accession</th>\n",
              "      <th>date</th>\n",
              "      <th>region</th>\n",
              "      <th>country</th>\n",
              "      <th>division</th>\n",
              "      <th>location</th>\n",
              "      <th>region_exposure</th>\n",
              "      <th>...</th>\n",
              "      <th>deletions</th>\n",
              "      <th>aaDeletions</th>\n",
              "      <th>privateNucMutations.reversionSubstitutions</th>\n",
              "      <th>privateNucMutations.labeledSubstitutions</th>\n",
              "      <th>privateNucMutations.unlabeledSubstitutions</th>\n",
              "      <th>lineage</th>\n",
              "      <th>scorpio_call</th>\n",
              "      <th>scorpio_support</th>\n",
              "      <th>scorpio_conflict</th>\n",
              "      <th>note</th>\n",
              "    </tr>\n",
              "  </thead>\n",
              "  <tbody>\n",
              "    <tr>\n",
              "      <th>0</th>\n",
              "      <td>Covid_1</td>\n",
              "      <td>betacoronavirus</td>\n",
              "      <td>EPI_ISL_0</td>\n",
              "      <td>?</td>\n",
              "      <td>2020-12-28</td>\n",
              "      <td>Asia</td>\n",
              "      <td>India</td>\n",
              "      <td>Andhra Pradesh</td>\n",
              "      <td>NELLORE</td>\n",
              "      <td>Asia</td>\n",
              "      <td>...</td>\n",
              "      <td>NaN</td>\n",
              "      <td>NaN</td>\n",
              "      <td>NaN</td>\n",
              "      <td>NaN</td>\n",
              "      <td>T1947C,C8481T,C15763T,T22191C,C26622T</td>\n",
              "      <td>B.1.36.39</td>\n",
              "      <td>NaN</td>\n",
              "      <td>NaN</td>\n",
              "      <td>NaN</td>\n",
              "      <td>Alt assignments: B.1.36;B.1.36.39</td>\n",
              "    </tr>\n",
              "  </tbody>\n",
              "</table>\n",
              "<p>1 rows × 53 columns</p>\n",
              "</div>\n",
              "      <button class=\"colab-df-convert\" onclick=\"convertToInteractive('df-02708b91-eb0a-4755-8065-fda932119b67')\"\n",
              "              title=\"Convert this dataframe to an interactive table.\"\n",
              "              style=\"display:none;\">\n",
              "        \n",
              "  <svg xmlns=\"http://www.w3.org/2000/svg\" height=\"24px\"viewBox=\"0 0 24 24\"\n",
              "       width=\"24px\">\n",
              "    <path d=\"M0 0h24v24H0V0z\" fill=\"none\"/>\n",
              "    <path d=\"M18.56 5.44l.94 2.06.94-2.06 2.06-.94-2.06-.94-.94-2.06-.94 2.06-2.06.94zm-11 1L8.5 8.5l.94-2.06 2.06-.94-2.06-.94L8.5 2.5l-.94 2.06-2.06.94zm10 10l.94 2.06.94-2.06 2.06-.94-2.06-.94-.94-2.06-.94 2.06-2.06.94z\"/><path d=\"M17.41 7.96l-1.37-1.37c-.4-.4-.92-.59-1.43-.59-.52 0-1.04.2-1.43.59L10.3 9.45l-7.72 7.72c-.78.78-.78 2.05 0 2.83L4 21.41c.39.39.9.59 1.41.59.51 0 1.02-.2 1.41-.59l7.78-7.78 2.81-2.81c.8-.78.8-2.07 0-2.86zM5.41 20L4 18.59l7.72-7.72 1.47 1.35L5.41 20z\"/>\n",
              "  </svg>\n",
              "      </button>\n",
              "      \n",
              "  <style>\n",
              "    .colab-df-container {\n",
              "      display:flex;\n",
              "      flex-wrap:wrap;\n",
              "      gap: 12px;\n",
              "    }\n",
              "\n",
              "    .colab-df-convert {\n",
              "      background-color: #E8F0FE;\n",
              "      border: none;\n",
              "      border-radius: 50%;\n",
              "      cursor: pointer;\n",
              "      display: none;\n",
              "      fill: #1967D2;\n",
              "      height: 32px;\n",
              "      padding: 0 0 0 0;\n",
              "      width: 32px;\n",
              "    }\n",
              "\n",
              "    .colab-df-convert:hover {\n",
              "      background-color: #E2EBFA;\n",
              "      box-shadow: 0px 1px 2px rgba(60, 64, 67, 0.3), 0px 1px 3px 1px rgba(60, 64, 67, 0.15);\n",
              "      fill: #174EA6;\n",
              "    }\n",
              "\n",
              "    [theme=dark] .colab-df-convert {\n",
              "      background-color: #3B4455;\n",
              "      fill: #D2E3FC;\n",
              "    }\n",
              "\n",
              "    [theme=dark] .colab-df-convert:hover {\n",
              "      background-color: #434B5C;\n",
              "      box-shadow: 0px 1px 3px 1px rgba(0, 0, 0, 0.15);\n",
              "      filter: drop-shadow(0px 1px 2px rgba(0, 0, 0, 0.3));\n",
              "      fill: #FFFFFF;\n",
              "    }\n",
              "  </style>\n",
              "\n",
              "      <script>\n",
              "        const buttonEl =\n",
              "          document.querySelector('#df-02708b91-eb0a-4755-8065-fda932119b67 button.colab-df-convert');\n",
              "        buttonEl.style.display =\n",
              "          google.colab.kernel.accessAllowed ? 'block' : 'none';\n",
              "\n",
              "        async function convertToInteractive(key) {\n",
              "          const element = document.querySelector('#df-02708b91-eb0a-4755-8065-fda932119b67');\n",
              "          const dataTable =\n",
              "            await google.colab.kernel.invokeFunction('convertToInteractive',\n",
              "                                                     [key], {});\n",
              "          if (!dataTable) return;\n",
              "\n",
              "          const docLinkHtml = 'Like what you see? Visit the ' +\n",
              "            '<a target=\"_blank\" href=https://colab.research.google.com/notebooks/data_table.ipynb>data table notebook</a>'\n",
              "            + ' to learn more about interactive tables.';\n",
              "          element.innerHTML = '';\n",
              "          dataTable['output_type'] = 'display_data';\n",
              "          await google.colab.output.renderOutput(dataTable, element);\n",
              "          const docLink = document.createElement('div');\n",
              "          docLink.innerHTML = docLinkHtml;\n",
              "          element.appendChild(docLink);\n",
              "        }\n",
              "      </script>\n",
              "    </div>\n",
              "  </div>\n",
              "  "
            ]
          },
          "metadata": {},
          "execution_count": 14
        }
      ]
    },
    {
      "cell_type": "code",
      "source": [
        "count_row = df1.shape[0]  # Gives number of rows\n",
        "#count_col = df1.shape[1]  # Gives number of columns\n",
        "count_row"
      ],
      "metadata": {
        "colab": {
          "base_uri": "https://localhost:8080/"
        },
        "id": "7TFFQSz6qZne",
        "outputId": "05bb67c1-ada9-4af4-f38b-e6a533af79c3"
      },
      "execution_count": null,
      "outputs": [
        {
          "output_type": "execute_result",
          "data": {
            "text/plain": [
              "163520"
            ]
          },
          "metadata": {},
          "execution_count": 9
        }
      ]
    },
    {
      "cell_type": "code",
      "source": [
        "# count_row = df1.shape[0]  # Gives number of rows\n",
        "count_col = df1.shape[1]  # Gives number of columns\n",
        "count_col"
      ],
      "metadata": {
        "colab": {
          "base_uri": "https://localhost:8080/"
        },
        "id": "nr3iWAsNqjN-",
        "outputId": "fbd843f6-3639-4bf5-c63e-e1a2e2c65476"
      },
      "execution_count": null,
      "outputs": [
        {
          "output_type": "execute_result",
          "data": {
            "text/plain": [
              "53"
            ]
          },
          "metadata": {},
          "execution_count": 16
        }
      ]
    },
    {
      "cell_type": "code",
      "source": [
        "df2 = pd.read_csv(\"/content/drive/MyDrive/Colab Notebooks/Tools/twodfcolumn/unassigned_N-content.csv\")"
      ],
      "metadata": {
        "id": "4O3WuZsGpdDL"
      },
      "execution_count": null,
      "outputs": []
    },
    {
      "cell_type": "code",
      "source": [
        "count_row = df2.shape[0]  # Gives number of rows\n",
        "#count_col = df1.shape[1]  # Gives number of columns\n",
        "count_row"
      ],
      "metadata": {
        "colab": {
          "base_uri": "https://localhost:8080/"
        },
        "id": "G2jnahyYqblx",
        "outputId": "7955131d-e6cc-4a29-e42d-9f9e0b2a0026"
      },
      "execution_count": null,
      "outputs": [
        {
          "output_type": "execute_result",
          "data": {
            "text/plain": [
              "163520"
            ]
          },
          "metadata": {},
          "execution_count": 10
        }
      ]
    },
    {
      "cell_type": "code",
      "source": [
        "# count_row = df1.shape[0]  # Gives number of rows\n",
        "count_col = df2.shape[1]  # Gives number of columns\n",
        "count_col"
      ],
      "metadata": {
        "colab": {
          "base_uri": "https://localhost:8080/"
        },
        "id": "48ynOOyxq0n-",
        "outputId": "e6141b73-db04-4a56-fdec-d3a69fd4719f"
      },
      "execution_count": null,
      "outputs": [
        {
          "output_type": "execute_result",
          "data": {
            "text/plain": [
              "4"
            ]
          },
          "metadata": {},
          "execution_count": 17
        }
      ]
    },
    {
      "cell_type": "code",
      "source": [
        "df3 = pd.merge(df1, df2, on='strain', how='outer')"
      ],
      "metadata": {
        "id": "FKmnjKJuppz_"
      },
      "execution_count": null,
      "outputs": []
    },
    {
      "cell_type": "code",
      "source": [
        "count_row = df3.shape[0]  # Gives number of rows\n",
        "#count_col = df1.shape[1]  # Gives number of columns\n",
        "count_row"
      ],
      "metadata": {
        "colab": {
          "base_uri": "https://localhost:8080/"
        },
        "id": "__yUyJ6DqffP",
        "outputId": "6e59a18e-aadb-454f-abbc-3d815c4f8e30"
      },
      "execution_count": null,
      "outputs": [
        {
          "output_type": "execute_result",
          "data": {
            "text/plain": [
              "163520"
            ]
          },
          "metadata": {},
          "execution_count": 11
        }
      ]
    },
    {
      "cell_type": "code",
      "source": [
        "# count_row = df1.shape[0]  # Gives number of rows\n",
        "count_col = df3.shape[1]  # Gives number of columns\n",
        "count_col"
      ],
      "metadata": {
        "colab": {
          "base_uri": "https://localhost:8080/"
        },
        "id": "fK8TGMCvq4Q3",
        "outputId": "f89ff12b-3716-453e-94b0-a6e08edcbdf3"
      },
      "execution_count": null,
      "outputs": [
        {
          "output_type": "execute_result",
          "data": {
            "text/plain": [
              "56"
            ]
          },
          "metadata": {},
          "execution_count": 18
        }
      ]
    },
    {
      "cell_type": "code",
      "source": [
        "df3.head(2)"
      ],
      "metadata": {
        "colab": {
          "base_uri": "https://localhost:8080/",
          "height": 275
        },
        "id": "F9VzzDT9qGkZ",
        "outputId": "87f2157e-260b-4057-9fb1-f01e3d05ae6b"
      },
      "execution_count": null,
      "outputs": [
        {
          "output_type": "execute_result",
          "data": {
            "text/plain": [
              "    strain            virus gisaid_epi_isl genbank_accession        date  \\\n",
              "0  Covid_1  betacoronavirus      EPI_ISL_0                 ?  2020-12-28   \n",
              "1  Covid_2  betacoronavirus      EPI_ISL_1                 ?  2020-12-28   \n",
              "\n",
              "  region country        division location region_exposure  ...  \\\n",
              "0   Asia   India  Andhra Pradesh  NELLORE            Asia  ...   \n",
              "1   Asia   India  Andhra Pradesh  NELLORE            Asia  ...   \n",
              "\n",
              "  privateNucMutations.labeledSubstitutions  \\\n",
              "0                                      NaN   \n",
              "1                                      NaN   \n",
              "\n",
              "  privateNucMutations.unlabeledSubstitutions    lineage  scorpio_call_x  \\\n",
              "0      T1947C,C8481T,C15763T,T22191C,C26622T  B.1.36.39             NaN   \n",
              "1      T1947C,C8481T,C15763T,T22191C,C26622T  B.1.36.39             NaN   \n",
              "\n",
              "  scorpio_support scorpio_conflict                               note  \\\n",
              "0             NaN              NaN  Alt assignments: B.1.36;B.1.36.39   \n",
              "1             NaN              NaN    Assigned from designation hash.   \n",
              "\n",
              "  scorpio_call_y N-content(%)    label  \n",
              "0            NaN         6.45  Ns <10%  \n",
              "1            NaN         0.11  Ns <10%  \n",
              "\n",
              "[2 rows x 56 columns]"
            ],
            "text/html": [
              "\n",
              "  <div id=\"df-f636f110-9f39-497f-8af2-29003022086c\">\n",
              "    <div class=\"colab-df-container\">\n",
              "      <div>\n",
              "<style scoped>\n",
              "    .dataframe tbody tr th:only-of-type {\n",
              "        vertical-align: middle;\n",
              "    }\n",
              "\n",
              "    .dataframe tbody tr th {\n",
              "        vertical-align: top;\n",
              "    }\n",
              "\n",
              "    .dataframe thead th {\n",
              "        text-align: right;\n",
              "    }\n",
              "</style>\n",
              "<table border=\"1\" class=\"dataframe\">\n",
              "  <thead>\n",
              "    <tr style=\"text-align: right;\">\n",
              "      <th></th>\n",
              "      <th>strain</th>\n",
              "      <th>virus</th>\n",
              "      <th>gisaid_epi_isl</th>\n",
              "      <th>genbank_accession</th>\n",
              "      <th>date</th>\n",
              "      <th>region</th>\n",
              "      <th>country</th>\n",
              "      <th>division</th>\n",
              "      <th>location</th>\n",
              "      <th>region_exposure</th>\n",
              "      <th>...</th>\n",
              "      <th>privateNucMutations.labeledSubstitutions</th>\n",
              "      <th>privateNucMutations.unlabeledSubstitutions</th>\n",
              "      <th>lineage</th>\n",
              "      <th>scorpio_call_x</th>\n",
              "      <th>scorpio_support</th>\n",
              "      <th>scorpio_conflict</th>\n",
              "      <th>note</th>\n",
              "      <th>scorpio_call_y</th>\n",
              "      <th>N-content(%)</th>\n",
              "      <th>label</th>\n",
              "    </tr>\n",
              "  </thead>\n",
              "  <tbody>\n",
              "    <tr>\n",
              "      <th>0</th>\n",
              "      <td>Covid_1</td>\n",
              "      <td>betacoronavirus</td>\n",
              "      <td>EPI_ISL_0</td>\n",
              "      <td>?</td>\n",
              "      <td>2020-12-28</td>\n",
              "      <td>Asia</td>\n",
              "      <td>India</td>\n",
              "      <td>Andhra Pradesh</td>\n",
              "      <td>NELLORE</td>\n",
              "      <td>Asia</td>\n",
              "      <td>...</td>\n",
              "      <td>NaN</td>\n",
              "      <td>T1947C,C8481T,C15763T,T22191C,C26622T</td>\n",
              "      <td>B.1.36.39</td>\n",
              "      <td>NaN</td>\n",
              "      <td>NaN</td>\n",
              "      <td>NaN</td>\n",
              "      <td>Alt assignments: B.1.36;B.1.36.39</td>\n",
              "      <td>NaN</td>\n",
              "      <td>6.45</td>\n",
              "      <td>Ns &lt;10%</td>\n",
              "    </tr>\n",
              "    <tr>\n",
              "      <th>1</th>\n",
              "      <td>Covid_2</td>\n",
              "      <td>betacoronavirus</td>\n",
              "      <td>EPI_ISL_1</td>\n",
              "      <td>?</td>\n",
              "      <td>2020-12-28</td>\n",
              "      <td>Asia</td>\n",
              "      <td>India</td>\n",
              "      <td>Andhra Pradesh</td>\n",
              "      <td>NELLORE</td>\n",
              "      <td>Asia</td>\n",
              "      <td>...</td>\n",
              "      <td>NaN</td>\n",
              "      <td>T1947C,C8481T,C15763T,T22191C,C26622T</td>\n",
              "      <td>B.1.36.39</td>\n",
              "      <td>NaN</td>\n",
              "      <td>NaN</td>\n",
              "      <td>NaN</td>\n",
              "      <td>Assigned from designation hash.</td>\n",
              "      <td>NaN</td>\n",
              "      <td>0.11</td>\n",
              "      <td>Ns &lt;10%</td>\n",
              "    </tr>\n",
              "  </tbody>\n",
              "</table>\n",
              "<p>2 rows × 56 columns</p>\n",
              "</div>\n",
              "      <button class=\"colab-df-convert\" onclick=\"convertToInteractive('df-f636f110-9f39-497f-8af2-29003022086c')\"\n",
              "              title=\"Convert this dataframe to an interactive table.\"\n",
              "              style=\"display:none;\">\n",
              "        \n",
              "  <svg xmlns=\"http://www.w3.org/2000/svg\" height=\"24px\"viewBox=\"0 0 24 24\"\n",
              "       width=\"24px\">\n",
              "    <path d=\"M0 0h24v24H0V0z\" fill=\"none\"/>\n",
              "    <path d=\"M18.56 5.44l.94 2.06.94-2.06 2.06-.94-2.06-.94-.94-2.06-.94 2.06-2.06.94zm-11 1L8.5 8.5l.94-2.06 2.06-.94-2.06-.94L8.5 2.5l-.94 2.06-2.06.94zm10 10l.94 2.06.94-2.06 2.06-.94-2.06-.94-.94-2.06-.94 2.06-2.06.94z\"/><path d=\"M17.41 7.96l-1.37-1.37c-.4-.4-.92-.59-1.43-.59-.52 0-1.04.2-1.43.59L10.3 9.45l-7.72 7.72c-.78.78-.78 2.05 0 2.83L4 21.41c.39.39.9.59 1.41.59.51 0 1.02-.2 1.41-.59l7.78-7.78 2.81-2.81c.8-.78.8-2.07 0-2.86zM5.41 20L4 18.59l7.72-7.72 1.47 1.35L5.41 20z\"/>\n",
              "  </svg>\n",
              "      </button>\n",
              "      \n",
              "  <style>\n",
              "    .colab-df-container {\n",
              "      display:flex;\n",
              "      flex-wrap:wrap;\n",
              "      gap: 12px;\n",
              "    }\n",
              "\n",
              "    .colab-df-convert {\n",
              "      background-color: #E8F0FE;\n",
              "      border: none;\n",
              "      border-radius: 50%;\n",
              "      cursor: pointer;\n",
              "      display: none;\n",
              "      fill: #1967D2;\n",
              "      height: 32px;\n",
              "      padding: 0 0 0 0;\n",
              "      width: 32px;\n",
              "    }\n",
              "\n",
              "    .colab-df-convert:hover {\n",
              "      background-color: #E2EBFA;\n",
              "      box-shadow: 0px 1px 2px rgba(60, 64, 67, 0.3), 0px 1px 3px 1px rgba(60, 64, 67, 0.15);\n",
              "      fill: #174EA6;\n",
              "    }\n",
              "\n",
              "    [theme=dark] .colab-df-convert {\n",
              "      background-color: #3B4455;\n",
              "      fill: #D2E3FC;\n",
              "    }\n",
              "\n",
              "    [theme=dark] .colab-df-convert:hover {\n",
              "      background-color: #434B5C;\n",
              "      box-shadow: 0px 1px 3px 1px rgba(0, 0, 0, 0.15);\n",
              "      filter: drop-shadow(0px 1px 2px rgba(0, 0, 0, 0.3));\n",
              "      fill: #FFFFFF;\n",
              "    }\n",
              "  </style>\n",
              "\n",
              "      <script>\n",
              "        const buttonEl =\n",
              "          document.querySelector('#df-f636f110-9f39-497f-8af2-29003022086c button.colab-df-convert');\n",
              "        buttonEl.style.display =\n",
              "          google.colab.kernel.accessAllowed ? 'block' : 'none';\n",
              "\n",
              "        async function convertToInteractive(key) {\n",
              "          const element = document.querySelector('#df-f636f110-9f39-497f-8af2-29003022086c');\n",
              "          const dataTable =\n",
              "            await google.colab.kernel.invokeFunction('convertToInteractive',\n",
              "                                                     [key], {});\n",
              "          if (!dataTable) return;\n",
              "\n",
              "          const docLinkHtml = 'Like what you see? Visit the ' +\n",
              "            '<a target=\"_blank\" href=https://colab.research.google.com/notebooks/data_table.ipynb>data table notebook</a>'\n",
              "            + ' to learn more about interactive tables.';\n",
              "          element.innerHTML = '';\n",
              "          dataTable['output_type'] = 'display_data';\n",
              "          await google.colab.output.renderOutput(dataTable, element);\n",
              "          const docLink = document.createElement('div');\n",
              "          docLink.innerHTML = docLinkHtml;\n",
              "          element.appendChild(docLink);\n",
              "        }\n",
              "      </script>\n",
              "    </div>\n",
              "  </div>\n",
              "  "
            ]
          },
          "metadata": {},
          "execution_count": 8
        }
      ]
    },
    {
      "cell_type": "code",
      "source": [
        "df3.to_csv('NIBMG_IBDC_Unassigned_metadata.tsv', sep=\"\\t\", index=False)"
      ],
      "metadata": {
        "id": "bru-8x64rI1X"
      },
      "execution_count": null,
      "outputs": []
    }
  ]
}