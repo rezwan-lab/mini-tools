{
  "nbformat": 4,
  "nbformat_minor": 0,
  "metadata": {
    "colab": {
      "provenance": []
    },
    "kernelspec": {
      "name": "python3",
      "display_name": "Python 3"
    },
    "language_info": {
      "name": "python"
    }
  },
  "cells": [
    {
      "cell_type": "code",
      "execution_count": null,
      "metadata": {
        "colab": {
          "base_uri": "https://localhost:8080/"
        },
        "id": "HnNeAV1Uke7j",
        "outputId": "853f23d5-e42d-45ff-f014-87cc754b28d0"
      },
      "outputs": [
        {
          "output_type": "stream",
          "name": "stdout",
          "text": [
            "Requirement already satisfied: pivottablejs in /usr/local/lib/python3.7/dist-packages (0.9.0)\n"
          ]
        }
      ],
      "source": [
        "import pandas as pd\n",
        "import numpy as np\n",
        "!pip install pivottablejs\n",
        "from pivottablejs import pivot_ui\n",
        "from IPython.display import HTML\n",
        "from IPython.display import IFrame\n",
        "import json, io"
      ]
    },
    {
      "cell_type": "code",
      "source": [
        "from google.colab import drive\n",
        "drive.mount('/content/drive')"
      ],
      "metadata": {
        "colab": {
          "base_uri": "https://localhost:8080/"
        },
        "id": "EuajdKsektB1",
        "outputId": "8010b8a9-a82f-40c4-d8dd-91e5029aa69a"
      },
      "execution_count": null,
      "outputs": [
        {
          "output_type": "stream",
          "name": "stdout",
          "text": [
            "Drive already mounted at /content/drive; to attempt to forcibly remount, call drive.mount(\"/content/drive\", force_remount=True).\n"
          ]
        }
      ]
    },
    {
      "cell_type": "code",
      "source": [
        "df = pd.read_table(\"/content/drive/.../nextstrain_metadata.tsv\", sep='\\t')"
      ],
      "metadata": {
        "colab": {
          "base_uri": "https://localhost:8080/"
        },
        "id": "sVoMkoBAk0Ql",
        "outputId": "8530367b-3563-4232-b85e-31cd4c1de420"
      },
      "execution_count": null,
      "outputs": [
        {
          "output_type": "stream",
          "name": "stderr",
          "text": [
            "/usr/local/lib/python3.7/dist-packages/IPython/core/interactiveshell.py:2882: DtypeWarning: Columns (26,40) have mixed types.Specify dtype option on import or set low_memory=False.\n",
            "  exec(code_obj, self.user_global_ns, self.user_ns)\n"
          ]
        }
      ]
    },
    {
      "cell_type": "code",
      "source": [
        "# recent_samples = df[df['collection_month'] == 'Feb-2022']\n",
        "\n",
        "# recent_samples.to_csv('recent_samples.tsv', sep=\"\\t\", index=False)"
      ],
      "metadata": {
        "id": "pEHGArD8YvRV"
      },
      "execution_count": null,
      "outputs": []
    },
    {
      "cell_type": "code",
      "source": [
        "l1 = df[df['collection_month'] == 'Mar-2022']\n",
        "l2 = df[df['collection_month'] == 'Apr-2022']\n",
        "\n",
        "recent_samples = pd.concat([l1,l2], join=\"inner\")\n",
        "\n",
        "recent_samples.to_csv('recent_samples.tsv', sep=\"\\t\", index=False)"
      ],
      "metadata": {
        "id": "euA715L9kymC"
      },
      "execution_count": null,
      "outputs": []
    },
    {
      "cell_type": "code",
      "source": [
        "#upload\n",
        "#set1_reference\n",
        "set1 = pd.read_table(\"/content/drive/.../subsample/set1_reference_metadata.tsv\", sep='\\t')\n",
        "#set2_global\n",
        "#set2 = pd.read_table(\"/content/drive/.../nextstrain_metadata_batch.tsv\", sep='\\t')\n",
        "#set3_subsample1\n",
        "set3 = pd.read_table(\"/content/drive/.../set3_subsample1_metadata.tsv\", sep='\\t')\n",
        "#set4_subsample2\n",
        "set4 = pd.read_table(\"/content/drive/.../set4_subsample2_metadata.tsv\", sep='\\t')\n",
        "#set5_rescent_sample\n",
        "set5 = recent_samples\n",
        "\n",
        "subsample=pd.concat([set1, set3, set4, recent_samples], join=\"inner\")\n",
        "\n",
        "subsample.to_csv('subsampled_metadata.tsv', sep=\"\\t\", index=False)\n"
      ],
      "metadata": {
        "id": "OiQS_zDnvj9z"
      },
      "execution_count": null,
      "outputs": []
    }
  ]
}
